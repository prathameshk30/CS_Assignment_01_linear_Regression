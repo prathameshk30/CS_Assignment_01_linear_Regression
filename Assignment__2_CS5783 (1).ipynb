{
  "nbformat": 4,
  "nbformat_minor": 0,
  "metadata": {
    "colab": {
      "provenance": [],
      "collapsed_sections": []
    },
    "kernelspec": {
      "name": "python3",
      "display_name": "Python 3"
    },
    "language_info": {
      "name": "python"
    }
  },
  "cells": [
    {
      "cell_type": "code",
      "source": [
        "import numpy as  np\n",
        "\n",
        "X_train=(np.load(\"/content/x_train.npy\"))\n",
        "y_train=(np.load(\"/content/y_train.npy\"))\n",
        "X_test=(np.load('/content/x_test.npy'))\n",
        "y_test=(np.load('/content/y_test.npy'))"
      ],
      "metadata": {
        "id": "OLs1tSyZmnua"
      },
      "execution_count": 618,
      "outputs": []
    },
    {
      "cell_type": "code",
      "source": [
        "import matplotlib.pyplot as plt\n",
        "fig = plt.figure(figsize=(8,6))\n",
        "plt.plot(X_train, y_train, 'y.')\n",
        "plt.legend([\"Train Data\"])\n",
        "plt.xlabel('X - Input')\n",
        "plt.ylabel('y - target / true')\n",
        "plt.title('Train X-Y plot')\n",
        "plt.show()"
      ],
      "metadata": {
        "colab": {
          "base_uri": "https://localhost:8080/",
          "height": 404
        },
        "id": "S4m3Ppo2muI-",
        "outputId": "1ea6c9f4-18bb-447f-b09f-b6c8563667e1"
      },
      "execution_count": 619,
      "outputs": [
        {
          "output_type": "display_data",
          "data": {
            "text/plain": [
              "<Figure size 576x432 with 1 Axes>"
            ],
            "image/png": "[encoded data removed]"
          },
          "metadata": {
            "needs_background": "light"
          }
        }
      ]
    },
    {
      "cell_type": "code",
      "source": [
        "import matplotlib.pyplot as plt\n",
        "fig = plt.figure(figsize=(8,6))\n",
        "plt.plot(X_test, y_test, 'y.')\n",
        "plt.legend([\"Test Data\"])\n",
        "plt.xlabel('X - Input')\n",
        "plt.ylabel('y - target / true')\n",
        "plt.title('Test X-Y plot')\n",
        "plt.show()"
      ],
      "metadata": {
        "colab": {
          "base_uri": "https://localhost:8080/",
          "height": 404
        },
        "id": "etZfZkMHDDhR",
        "outputId": "d9c4da25-9662-48ea-8388-28710dd8a5e3"
      },
      "execution_count": 620,
      "outputs": [
        {
          "output_type": "display_data",
          "data": {
            "text/plain": [
              "<Figure size 576x432 with 1 Axes>"
            ],
            "image/png": "[encoded data removed]"
          },
          "metadata": {
            "needs_background": "light"
          }
        }
      ]
    },
    {
      "cell_type": "markdown",
      "source": [
        "**There is non linear relationship between the features and the dependent variables**"
      ],
      "metadata": {
        "id": "dXvcdQL6mwSK"
      }
    },
    {
      "cell_type": "code",
      "source": [
        "import numpy as np\n",
        "import pandas\n",
        "\n",
        "class Generalized_linear_model:\n",
        "  def __init__(self,variables=1 ,bs=100, degrees=1, epochs=1000, lr=0.001,regularization=\"None\",lambda_=1):\n",
        "      ## Initializing weights and biases to 0\n",
        "      self.variables=variables\n",
        "      self.bs=bs\n",
        "      self.w=np.zeros(variables)\n",
        "      self.b=0\n",
        "      self.epochs=epochs\n",
        "      self.degrees=degrees\n",
        "      self.regularization=regularization\n",
        "      self.lambda_=lambda_\n",
        "      self.lr=lr\n",
        "\n",
        "  def loss(self, y, y_hat):\n",
        "    reg=0\n",
        "    if(self.regularization==\"L1\"):\n",
        "        reg=np.sum(np.abs(self.w))*self.lambda_\n",
        "    if(self.regularization==\"L2\"):\n",
        "        reg=np.sum(self.w**2)*self.lambda_\n",
        "    loss=np.mean((y_hat-y)**2)+reg\n",
        "    return loss\n",
        "\n",
        "  def gradients(self, X,y,y_hat):\n",
        "    m=X.shape[0]\n",
        "\n",
        "    if(self.regularization==\"None\"):\n",
        "      dw=(1/m)*np.dot(X.T,(y_hat-y))\n",
        "      db=(1/m)*np.sum((y_hat-y))\n",
        "\n",
        "    if(self.regularization==\"L1\"):\n",
        "      dw = (1/m)*(-(2*np.dot(X.T,(y_hat-y))) + (2*self.lambda_*self.w))\n",
        "      db = -2*(1/m)*np.sum((y_hat-y))\n",
        "\n",
        "    if(self.regularization==\"L2\"):\n",
        "      dw = (1/m)*(-(2*np.dot(X.T,(y_hat-y))) + (self.lambda_))\n",
        "      db = -2*(1/m)*np.sum((y_hat-y))\n",
        "    return dw, db\n",
        "\n",
        "  def x_transform(self, X, degrees):\n",
        "    t=X.copy()\n",
        "    for i in range(0,degrees):\n",
        "      X=np.append(X, t**i, axis=1)\n",
        "    return X\n",
        "  \n",
        "  def fit(self, X, y):\n",
        "    self.X=X\n",
        "    self.y=y\n",
        "    if type(X)==pandas.core.frame.DataFrame:\n",
        "      X=(X).to_numpy()\n",
        "    else:\n",
        "      pass\n",
        "    x = self.x_transform(X, self.degrees)\n",
        "    m, n = self.X.shape\n",
        "    \n",
        "    # Reshaping y.\n",
        "    y = pandas.Series(self.y).to_numpy().reshape(m,1)\n",
        "    \n",
        "    # Empty list to store losses.\n",
        "    losses = []\n",
        "    \n",
        "    # Training loop.\n",
        "    for epoch in range(self.epochs):\n",
        "        for i in range((m-1)//self.bs + 1):\n",
        "            \n",
        "            # Defining batches.\n",
        "            start_i = i*self.bs\n",
        "            end_i = start_i + self.bs\n",
        "            xb = self.X[start_i:end_i]\n",
        "            yb = self.y[start_i:end_i]\n",
        "            \n",
        "            # Calculating hypothesis\n",
        "            y_hat = np.dot(xb, self.w) + self.b\n",
        "            \n",
        "            # Getting the gradients of loss w.r.t parameters.\n",
        "            dw, db = self.gradients(xb, yb, y_hat)\n",
        "\n",
        "            # Updating the parameters.\n",
        "            self.w -= self.lr*dw\n",
        "            self.b -= self.lr*db\n",
        "        \n",
        "        # Calculating loss and appending it in the list.\n",
        "        l = self.loss(y, np.dot(X, self.w) + self.b)\n",
        "        losses.append(l)\n",
        "        \n",
        "    # returning weights, bias and losses(List).\n",
        "    #return w, b, losses\n",
        "\n",
        "  def predict(self,X ):\n",
        "    if type(X)==pandas.core.frame.DataFrame:\n",
        "      X=(X).to_numpy()\n",
        "    else:\n",
        "      pass\n",
        "    return np.dot(X, self.w) + self.b"
      ],
      "metadata": {
        "id": "SlrjeeK2xB6w"
      },
      "execution_count": 621,
      "outputs": []
    },
    {
      "cell_type": "code",
      "source": [
        "GLM=Generalized_linear_model(bs=1500, degrees=2, epochs=10000, lr=0.01,regularization=\"None\",lambda_=1)\n",
        "GLM.fit(X_train,y_train)"
      ],
      "metadata": {
        "id": "ZEohLy07J1_j"
      },
      "execution_count": 622,
      "outputs": []
    },
    {
      "cell_type": "code",
      "source": [
        "y_pred=GLM.predict(X_test)"
      ],
      "metadata": {
        "id": "M0zJt-F_PEDa"
      },
      "execution_count": 623,
      "outputs": []
    },
    {
      "cell_type": "code",
      "source": [
        "import matplotlib.pyplot as plt\n",
        "fig = plt.figure(figsize=(8,6))\n",
        "plt.plot(X_test, y_test, 'y.')\n",
        "plt.plot(X_test, y_pred, 'r.')\n",
        "plt.legend([\"Data\", \"Polynomial predictions\"])\n",
        "plt.xlabel('X - Input')\n",
        "plt.ylabel('y - target / true')\n",
        "plt.title('Polynomial Regression')\n",
        "plt.show()"
      ],
      "metadata": {
        "colab": {
          "base_uri": "https://localhost:8080/",
          "height": 404
        },
        "id": "r0v8Fa_Kfquk",
        "outputId": "40b91768-5cc4-4bd2-e9e2-2e3fbc255ffe"
      },
      "execution_count": 624,
      "outputs": [
        {
          "output_type": "display_data",
          "data": {
            "text/plain": [
              "<Figure size 576x432 with 1 Axes>"
            ],
            "image/png": "[encoded data removed]"
          },
          "metadata": {
            "needs_background": "light"
          }
        }
      ]
    },
    {
      "cell_type": "markdown",
      "source": [
        "Basis Function:-\n",
        "As the relationship is non linear we can try to map the basis function as a polynomial function. As a horizontal line will cut through the training data at 5 points and test data at 2 points. The training of the data should be started with using polynomial basis function of degree 5.\n",
        "\n",
        "We can also try polynomial basis function of other degress such as  2, 3 & 4,  for checking result."
      ],
      "metadata": {
        "id": "6eRL7EREgt8S"
      }
    },
    {
      "cell_type": "markdown",
      "source": [
        "**Basis function of degree 5**"
      ],
      "metadata": {
        "id": "sf6K-aQ-mSvi"
      }
    },
    {
      "cell_type": "code",
      "source": [
        "X_train_power=np.power(X_train,5)\n",
        "X_train_power\n",
        "\n",
        "import matplotlib.pyplot as plt\n",
        "fig = plt.figure(figsize=(8,5))\n",
        "plt.plot(X_train_power, y_train, 'y.')\n",
        "plt.legend([\"Train Data\"])\n",
        "plt.xlabel('X - Input')\n",
        "plt.ylabel('y - target / true')\n",
        "plt.title('Train X-Y plot')\n",
        "plt.show()"
      ],
      "metadata": {
        "colab": {
          "base_uri": "https://localhost:8080/",
          "height": 350
        },
        "id": "RiiYEaCvgqx3",
        "outputId": "cc987496-6107-4156-cb5c-ce703026a8ee"
      },
      "execution_count": 625,
      "outputs": [
        {
          "output_type": "display_data",
          "data": {
            "text/plain": [
              "<Figure size 576x360 with 1 Axes>"
            ],
            "image/png": "[encoded data removed]"
          },
          "metadata": {
            "needs_background": "light"
          }
        }
      ]
    },
    {
      "cell_type": "code",
      "source": [
        "GLM=Generalized_linear_model(bs=1500, degrees=1, epochs=10000, lr=0.01,regularization=\"None\",lambda_=1)\n",
        "GLM.fit(X_train_power,y_train)\n",
        "y_pred=GLM.predict(X_test)\n",
        "\n",
        "fig = plt.figure(figsize=(8,6))\n",
        "plt.plot(X_test, y_test, 'y.')\n",
        "plt.plot(X_test, y_pred, 'r.')\n",
        "plt.legend([\"Data\", \"Polynomial predictions\"])\n",
        "plt.xlabel('X - Input')\n",
        "plt.ylabel('y - target / true')\n",
        "plt.title('Polynomial Regression')\n",
        "plt.show()"
      ],
      "metadata": {
        "colab": {
          "base_uri": "https://localhost:8080/",
          "height": 508
        },
        "id": "vMh6GVCpkZW_",
        "outputId": "4e833385-714a-4614-d3a9-230211101b8c"
      },
      "execution_count": 626,
      "outputs": [
        {
          "output_type": "stream",
          "name": "stderr",
          "text": [
            "/usr/local/lib/python3.7/dist-packages/numpy/core/_methods.py:179: RuntimeWarning: overflow encountered in reduce\n",
            "  ret = umr_sum(arr, axis, dtype, out, keepdims, where=where)\n",
            "/usr/local/lib/python3.7/dist-packages/ipykernel_launcher.py:23: RuntimeWarning: overflow encountered in square\n",
            "/usr/local/lib/python3.7/dist-packages/numpy/core/fromnumeric.py:86: RuntimeWarning: invalid value encountered in reduce\n",
            "  return ufunc.reduce(obj, axis, dtype, out, **passkwargs)\n",
            "/usr/local/lib/python3.7/dist-packages/ipykernel_launcher.py:81: RuntimeWarning: invalid value encountered in subtract\n"
          ]
        },
        {
          "output_type": "display_data",
          "data": {
            "text/plain": [
              "<Figure size 576x432 with 1 Axes>"
            ],
            "image/png": "[encoded data removed]"
          },
          "metadata": {
            "needs_background": "light"
          }
        }
      ]
    },
    {
      "cell_type": "markdown",
      "source": [
        "**Basis function of degree 3**"
      ],
      "metadata": {
        "id": "sUv7ZSpqmX6C"
      }
    },
    {
      "cell_type": "code",
      "source": [
        "X_train_power_3=np.power(X_test,3)\n",
        "X_train_power\n",
        "\n",
        "import matplotlib.pyplot as plt\n",
        "fig = plt.figure(figsize=(8,5))\n",
        "plt.plot(X_train_power_3, y_test, 'y.')\n",
        "plt.legend([\"Train Data\"])\n",
        "plt.xlabel('X - Input')\n",
        "plt.ylabel('y - target / true')\n",
        "plt.title('Train X-Y plot')\n",
        "plt.show()"
      ],
      "metadata": {
        "colab": {
          "base_uri": "https://localhost:8080/",
          "height": 350
        },
        "id": "rHw-jAO2h2VD",
        "outputId": "ba06c3ae-e28b-4a8d-d67c-f330baf658b8"
      },
      "execution_count": 627,
      "outputs": [
        {
          "output_type": "display_data",
          "data": {
            "text/plain": [
              "<Figure size 576x360 with 1 Axes>"
            ],
            "image/png": "[encoded data removed]"
          },
          "metadata": {
            "needs_background": "light"
          }
        }
      ]
    },
    {
      "cell_type": "code",
      "source": [
        "GLM=Generalized_linear_model(bs=1500, degrees=1, epochs=10000, lr=0.01,regularization=\"None\",lambda_=1)\n",
        "GLM.fit(X_train_power_3,y_train)\n",
        "y_pred=GLM.predict(X_test)\n",
        "\n",
        "fig = plt.figure(figsize=(8,6))\n",
        "plt.plot(X_test, y_test, 'y.')\n",
        "plt.plot(X_test, y_pred, 'r.')\n",
        "plt.legend([\"Data\", \"Polynomial predictions\"])\n",
        "plt.xlabel('X - Input')\n",
        "plt.ylabel('y - target / true')\n",
        "plt.title('Polynomial Regression')\n",
        "plt.show()"
      ],
      "metadata": {
        "colab": {
          "base_uri": "https://localhost:8080/",
          "height": 404
        },
        "id": "fTsPOUL9k-OE",
        "outputId": "d85d4754-4a87-40c6-d5bb-2a7bfa6a2237"
      },
      "execution_count": 628,
      "outputs": [
        {
          "output_type": "display_data",
          "data": {
            "text/plain": [
              "<Figure size 576x432 with 1 Axes>"
            ],
            "image/png": "[encoded data removed]"
          },
          "metadata": {
            "needs_background": "light"
          }
        }
      ]
    },
    {
      "cell_type": "markdown",
      "source": [
        "**Basis function of degree 4**"
      ],
      "metadata": {
        "id": "VlQxywoHmb8L"
      }
    },
    {
      "cell_type": "code",
      "source": [
        "X_train_power_4=np.power(X_test,4)\n",
        "X_train_power\n",
        "\n",
        "import matplotlib.pyplot as plt\n",
        "fig = plt.figure(figsize=(8,5))\n",
        "plt.plot(X_train_power_4, y_test, 'y.')\n",
        "plt.legend([\"Train Data\"])\n",
        "plt.xlabel('X - Input')\n",
        "plt.ylabel('y - target / true')\n",
        "plt.title('Train X-Y plot')\n",
        "plt.show()"
      ],
      "metadata": {
        "colab": {
          "base_uri": "https://localhost:8080/",
          "height": 350
        },
        "id": "jkrDkUMBiIDl",
        "outputId": "fb67fc5f-fc4f-4be0-f1aa-3ea9f4cf400e"
      },
      "execution_count": 629,
      "outputs": [
        {
          "output_type": "display_data",
          "data": {
            "text/plain": [
              "<Figure size 576x360 with 1 Axes>"
            ],
            "image/png": "[encoded data removed]"
          },
          "metadata": {
            "needs_background": "light"
          }
        }
      ]
    },
    {
      "cell_type": "code",
      "source": [
        "GLM=Generalized_linear_model(bs=1500, degrees=1, epochs=10000, lr=0.01,regularization=\"None\",lambda_=1)\n",
        "GLM.fit(X_train_power_4,y_train)\n",
        "y_pred=GLM.predict(X_test)\n",
        "\n",
        "fig = plt.figure(figsize=(8,6))\n",
        "plt.plot(X_test, y_test, 'y.')\n",
        "plt.plot(X_test, y_pred, 'r.')\n",
        "plt.legend([\"Data\", \"Polynomial predictions\"])\n",
        "plt.xlabel('X - Input')\n",
        "plt.ylabel('y - target / true')\n",
        "plt.title('Polynomial Regression')\n",
        "plt.show()"
      ],
      "metadata": {
        "colab": {
          "base_uri": "https://localhost:8080/",
          "height": 404
        },
        "id": "6fyw4QwHlPjG",
        "outputId": "e198a795-ab91-4d14-bcc4-a0dddc04e79e"
      },
      "execution_count": 630,
      "outputs": [
        {
          "output_type": "display_data",
          "data": {
            "text/plain": [
              "<Figure size 576x432 with 1 Axes>"
            ],
            "image/png": "[encoded data removed]"
          },
          "metadata": {
            "needs_background": "light"
          }
        }
      ]
    },
    {
      "cell_type": "markdown",
      "source": [
        "**Basis function of degree 2**"
      ],
      "metadata": {
        "id": "s2yHdHVHsMe_"
      }
    },
    {
      "cell_type": "code",
      "source": [
        "X_train_power_2=np.power(X_test,2)\n",
        "X_train_power\n",
        "\n",
        "import matplotlib.pyplot as plt\n",
        "fig = plt.figure(figsize=(8,5))\n",
        "plt.plot(X_train_power_2, y_test, 'y.')\n",
        "plt.legend([\"Train Data\"])\n",
        "plt.xlabel('X - Input')\n",
        "plt.ylabel('y - target / true')\n",
        "plt.title('Train X-Y plot')\n",
        "plt.show()"
      ],
      "metadata": {
        "colab": {
          "base_uri": "https://localhost:8080/",
          "height": 350
        },
        "id": "Z7y7n6Atr1Y-",
        "outputId": "2bc419af-e1c0-421a-a15e-f9ed2da63482"
      },
      "execution_count": 631,
      "outputs": [
        {
          "output_type": "display_data",
          "data": {
            "text/plain": [
              "<Figure size 576x360 with 1 Axes>"
            ],
            "image/png": "[encoded data removed]"
          },
          "metadata": {
            "needs_background": "light"
          }
        }
      ]
    },
    {
      "cell_type": "code",
      "source": [
        "GLM=Generalized_linear_model(bs=1500, degrees=1, epochs=10000, lr=0.01,regularization=\"None\",lambda_=1)\n",
        "GLM.fit(X_train_power_2,y_train)\n",
        "y_pred=GLM.predict(X_test)\n",
        "\n",
        "fig = plt.figure(figsize=(8,6))\n",
        "plt.plot(X_test, y_test, 'y.')\n",
        "plt.plot(X_test, y_pred, 'r.')\n",
        "plt.legend([\"Data\", \"Polynomial predictions\"])\n",
        "plt.xlabel('X - Input')\n",
        "plt.ylabel('y - target / true')\n",
        "plt.title('Polynomial Regression')\n",
        "plt.show()"
      ],
      "metadata": {
        "colab": {
          "base_uri": "https://localhost:8080/",
          "height": 404
        },
        "id": "gU_My_PPr_X3",
        "outputId": "dd362eed-e0d0-43e5-c01d-e1c767a8b773"
      },
      "execution_count": 632,
      "outputs": [
        {
          "output_type": "display_data",
          "data": {
            "text/plain": [
              "<Figure size 576x432 with 1 Axes>"
            ],
            "image/png": "[encoded data removed]"
          },
          "metadata": {
            "needs_background": "light"
          }
        }
      ]
    },
    {
      "cell_type": "code",
      "source": [
        "import pandas as pd\n",
        "\n",
        "df=pd.read_csv('/content/Assignment1_Q2_Data.csv')\n",
        "df.head(10)"
      ],
      "metadata": {
        "colab": {
          "base_uri": "https://localhost:8080/",
          "height": 424
        },
        "id": "oA5mfb20IpgI",
        "outputId": "c8723ab7-1b66-4c26-f8e3-8c20457ecc2b"
      },
      "execution_count": 633,
      "outputs": [
        {
          "output_type": "execute_result",
          "data": {
            "text/plain": [
              "   House ID  Local Price  Bathrooms  Land Area  Living area  # Garages  \\\n",
              "0         1       4.9176        1.0      3.472        0.998        1.0   \n",
              "1         2       5.0208        1.0      3.531        1.500        2.0   \n",
              "2         3       4.5429        1.0      2.275        1.175        1.0   \n",
              "3         4       4.5573        1.0      4.050        1.232        1.0   \n",
              "4         5       5.0597        1.0      4.455        1.121        1.0   \n",
              "5         6       3.8910        1.0      4.455        0.988        1.0   \n",
              "6         7       5.8980        1.0      5.850        1.240        1.0   \n",
              "7         8       5.6039        1.0      9.520        1.501        0.0   \n",
              "8         9      16.4202        2.5      9.800        3.420        2.0   \n",
              "9        10      14.4598        2.5     12.800        3.000        2.0   \n",
              "\n",
              "   # Rooms  # Bedrooms  Age of home  Construction type  Architecture type  \\\n",
              "0        7           4           42                  3                  1   \n",
              "1        7           4           62                  1                  1   \n",
              "2        6           3           40                  2                  1   \n",
              "3        6           3           54                  4                  1   \n",
              "4        6           3           42                  3                  1   \n",
              "5        6           3           56                  2                  1   \n",
              "6        7           3           51                  2                  1   \n",
              "7        6           3           32                  1                  1   \n",
              "8       10           5           42                  2                  1   \n",
              "9        9           5           14                  4                  1   \n",
              "\n",
              "   # Fire places  Price (1000$)  \n",
              "0              0           25.9  \n",
              "1              0           29.5  \n",
              "2              0           27.9  \n",
              "3              0           25.9  \n",
              "4              0           29.9  \n",
              "5              0           29.9  \n",
              "6              1           30.9  \n",
              "7              0           28.9  \n",
              "8              1           84.9  \n",
              "9              1           82.9  "
            ],
            "text/html": [
              "\n",
              "  <div id=\"df-e6172862-e483-424d-bfa8-f1c82778a2f5\">\n",
              "    <div class=\"colab-df-container\">\n",
              "      <div>\n",
              "<style scoped>\n",
              "    .dataframe tbody tr th:only-of-type {\n",
              "        vertical-align: middle;\n",
              "    }\n",
              "\n",
              "    .dataframe tbody tr th {\n",
              "        vertical-align: top;\n",
              "    }\n",
              "\n",
              "    .dataframe thead th {\n",
              "        text-align: right;\n",
              "    }\n",
              "</style>\n",
              "<table border=\"1\" class=\"dataframe\">\n",
              "  <thead>\n",
              "    <tr style=\"text-align: right;\">\n",
              "      <th></th>\n",
              "      <th>House ID</th>\n",
              "      <th>Local Price</th>\n",
              "      <th>Bathrooms</th>\n",
              "      <th>Land Area</th>\n",
              "      <th>Living area</th>\n",
              "      <th># Garages</th>\n",
              "      <th># Rooms</th>\n",
              "      <th># Bedrooms</th>\n",
              "      <th>Age of home</th>\n",
              "      <th>Construction type</th>\n",
              "      <th>Architecture type</th>\n",
              "      <th># Fire places</th>\n",
              "      <th>Price (1000$)</th>\n",
              "    </tr>\n",
              "  </thead>\n",
              "  <tbody>\n",
              "    <tr>\n",
              "      <th>0</th>\n",
              "      <td>1</td>\n",
              "      <td>4.9176</td>\n",
              "      <td>1.0</td>\n",
              "      <td>3.472</td>\n",
              "      <td>0.998</td>\n",
              "      <td>1.0</td>\n",
              "      <td>7</td>\n",
              "      <td>4</td>\n",
              "      <td>42</td>\n",
              "      <td>3</td>\n",
              "      <td>1</td>\n",
              "      <td>0</td>\n",
              "      <td>25.9</td>\n",
              "    </tr>\n",
              "    <tr>\n",
              "      <th>1</th>\n",
              "      <td>2</td>\n",
              "      <td>5.0208</td>\n",
              "      <td>1.0</td>\n",
              "      <td>3.531</td>\n",
              "      <td>1.500</td>\n",
              "      <td>2.0</td>\n",
              "      <td>7</td>\n",
              "      <td>4</td>\n",
              "      <td>62</td>\n",
              "      <td>1</td>\n",
              "      <td>1</td>\n",
              "      <td>0</td>\n",
              "      <td>29.5</td>\n",
              "    </tr>\n",
              "    <tr>\n",
              "      <th>2</th>\n",
              "      <td>3</td>\n",
              "      <td>4.5429</td>\n",
              "      <td>1.0</td>\n",
              "      <td>2.275</td>\n",
              "      <td>1.175</td>\n",
              "      <td>1.0</td>\n",
              "      <td>6</td>\n",
              "      <td>3</td>\n",
              "      <td>40</td>\n",
              "      <td>2</td>\n",
              "      <td>1</td>\n",
              "      <td>0</td>\n",
              "      <td>27.9</td>\n",
              "    </tr>\n",
              "    <tr>\n",
              "      <th>3</th>\n",
              "      <td>4</td>\n",
              "      <td>4.5573</td>\n",
              "      <td>1.0</td>\n",
              "      <td>4.050</td>\n",
              "      <td>1.232</td>\n",
              "      <td>1.0</td>\n",
              "      <td>6</td>\n",
              "      <td>3</td>\n",
              "      <td>54</td>\n",
              "      <td>4</td>\n",
              "      <td>1</td>\n",
              "      <td>0</td>\n",
              "      <td>25.9</td>\n",
              "    </tr>\n",
              "    <tr>\n",
              "      <th>4</th>\n",
              "      <td>5</td>\n",
              "      <td>5.0597</td>\n",
              "      <td>1.0</td>\n",
              "      <td>4.455</td>\n",
              "      <td>1.121</td>\n",
              "      <td>1.0</td>\n",
              "      <td>6</td>\n",
              "      <td>3</td>\n",
              "      <td>42</td>\n",
              "      <td>3</td>\n",
              "      <td>1</td>\n",
              "      <td>0</td>\n",
              "      <td>29.9</td>\n",
              "    </tr>\n",
              "    <tr>\n",
              "      <th>5</th>\n",
              "      <td>6</td>\n",
              "      <td>3.8910</td>\n",
              "      <td>1.0</td>\n",
              "      <td>4.455</td>\n",
              "      <td>0.988</td>\n",
              "      <td>1.0</td>\n",
              "      <td>6</td>\n",
              "      <td>3</td>\n",
              "      <td>56</td>\n",
              "      <td>2</td>\n",
              "      <td>1</td>\n",
              "      <td>0</td>\n",
              "      <td>29.9</td>\n",
              "    </tr>\n",
              "    <tr>\n",
              "      <th>6</th>\n",
              "      <td>7</td>\n",
              "      <td>5.8980</td>\n",
              "      <td>1.0</td>\n",
              "      <td>5.850</td>\n",
              "      <td>1.240</td>\n",
              "      <td>1.0</td>\n",
              "      <td>7</td>\n",
              "      <td>3</td>\n",
              "      <td>51</td>\n",
              "      <td>2</td>\n",
              "      <td>1</td>\n",
              "      <td>1</td>\n",
              "      <td>30.9</td>\n",
              "    </tr>\n",
              "    <tr>\n",
              "      <th>7</th>\n",
              "      <td>8</td>\n",
              "      <td>5.6039</td>\n",
              "      <td>1.0</td>\n",
              "      <td>9.520</td>\n",
              "      <td>1.501</td>\n",
              "      <td>0.0</td>\n",
              "      <td>6</td>\n",
              "      <td>3</td>\n",
              "      <td>32</td>\n",
              "      <td>1</td>\n",
              "      <td>1</td>\n",
              "      <td>0</td>\n",
              "      <td>28.9</td>\n",
              "    </tr>\n",
              "    <tr>\n",
              "      <th>8</th>\n",
              "      <td>9</td>\n",
              "      <td>16.4202</td>\n",
              "      <td>2.5</td>\n",
              "      <td>9.800</td>\n",
              "      <td>3.420</td>\n",
              "      <td>2.0</td>\n",
              "      <td>10</td>\n",
              "      <td>5</td>\n",
              "      <td>42</td>\n",
              "      <td>2</td>\n",
              "      <td>1</td>\n",
              "      <td>1</td>\n",
              "      <td>84.9</td>\n",
              "    </tr>\n",
              "    <tr>\n",
              "      <th>9</th>\n",
              "      <td>10</td>\n",
              "      <td>14.4598</td>\n",
              "      <td>2.5</td>\n",
              "      <td>12.800</td>\n",
              "      <td>3.000</td>\n",
              "      <td>2.0</td>\n",
              "      <td>9</td>\n",
              "      <td>5</td>\n",
              "      <td>14</td>\n",
              "      <td>4</td>\n",
              "      <td>1</td>\n",
              "      <td>1</td>\n",
              "      <td>82.9</td>\n",
              "    </tr>\n",
              "  </tbody>\n",
              "</table>\n",
              "</div>\n",
              "      <button class=\"colab-df-convert\" onclick=\"convertToInteractive('df-e6172862-e483-424d-bfa8-f1c82778a2f5')\"\n",
              "              title=\"Convert this dataframe to an interactive table.\"\n",
              "              style=\"display:none;\">\n",
              "        \n",
              "  <svg xmlns=\"http://www.w3.org/2000/svg\" height=\"24px\"viewBox=\"0 0 24 24\"\n",
              "       width=\"24px\">\n",
              "    <path d=\"M0 0h24v24H0V0z\" fill=\"none\"/>\n",
              "    <path d=\"M18.56 5.44l.94 2.06.94-2.06 2.06-.94-2.06-.94-.94-2.06-.94 2.06-2.06.94zm-11 1L8.5 8.5l.94-2.06 2.06-.94-2.06-.94L8.5 2.5l-.94 2.06-2.06.94zm10 10l.94 2.06.94-2.06 2.06-.94-2.06-.94-.94-2.06-.94 2.06-2.06.94z\"/><path d=\"M17.41 7.96l-1.37-1.37c-.4-.4-.92-.59-1.43-.59-.52 0-1.04.2-1.43.59L10.3 9.45l-7.72 7.72c-.78.78-.78 2.05 0 2.83L4 21.41c.39.39.9.59 1.41.59.51 0 1.02-.2 1.41-.59l7.78-7.78 2.81-2.81c.8-.78.8-2.07 0-2.86zM5.41 20L4 18.59l7.72-7.72 1.47 1.35L5.41 20z\"/>\n",
              "  </svg>\n",
              "      </button>\n",
              "      \n",
              "  <style>\n",
              "    .colab-df-container {\n",
              "      display:flex;\n",
              "      flex-wrap:wrap;\n",
              "      gap: 12px;\n",
              "    }\n",
              "\n",
              "    .colab-df-convert {\n",
              "      background-color: #E8F0FE;\n",
              "      border: none;\n",
              "      border-radius: 50%;\n",
              "      cursor: pointer;\n",
              "      display: none;\n",
              "      fill: #1967D2;\n",
              "      height: 32px;\n",
              "      padding: 0 0 0 0;\n",
              "      width: 32px;\n",
              "    }\n",
              "\n",
              "    .colab-df-convert:hover {\n",
              "      background-color: #E2EBFA;\n",
              "      box-shadow: 0px 1px 2px rgba(60, 64, 67, 0.3), 0px 1px 3px 1px rgba(60, 64, 67, 0.15);\n",
              "      fill: #174EA6;\n",
              "    }\n",
              "\n",
              "    [theme=dark] .colab-df-convert {\n",
              "      background-color: #3B4455;\n",
              "      fill: #D2E3FC;\n",
              "    }\n",
              "\n",
              "    [theme=dark] .colab-df-convert:hover {\n",
              "      background-color: #434B5C;\n",
              "      box-shadow: 0px 1px 3px 1px rgba(0, 0, 0, 0.15);\n",
              "      filter: drop-shadow(0px 1px 2px rgba(0, 0, 0, 0.3));\n",
              "      fill: #FFFFFF;\n",
              "    }\n",
              "  </style>\n",
              "\n",
              "      <script>\n",
              "        const buttonEl =\n",
              "          document.querySelector('#df-e6172862-e483-424d-bfa8-f1c82778a2f5 button.colab-df-convert');\n",
              "        buttonEl.style.display =\n",
              "          google.colab.kernel.accessAllowed ? 'block' : 'none';\n",
              "\n",
              "        async function convertToInteractive(key) {\n",
              "          const element = document.querySelector('#df-e6172862-e483-424d-bfa8-f1c82778a2f5');\n",
              "          const dataTable =\n",
              "            await google.colab.kernel.invokeFunction('convertToInteractive',\n",
              "                                                     [key], {});\n",
              "          if (!dataTable) return;\n",
              "\n",
              "          const docLinkHtml = 'Like what you see? Visit the ' +\n",
              "            '<a target=\"_blank\" href=https://colab.research.google.com/notebooks/data_table.ipynb>data table notebook</a>'\n",
              "            + ' to learn more about interactive tables.';\n",
              "          element.innerHTML = '';\n",
              "          dataTable['output_type'] = 'display_data';\n",
              "          await google.colab.output.renderOutput(dataTable, element);\n",
              "          const docLink = document.createElement('div');\n",
              "          docLink.innerHTML = docLinkHtml;\n",
              "          element.appendChild(docLink);\n",
              "        }\n",
              "      </script>\n",
              "    </div>\n",
              "  </div>\n",
              "  "
            ]
          },
          "metadata": {},
          "execution_count": 633
        }
      ]
    },
    {
      "cell_type": "code",
      "source": [
        "# Shuffle your dataset \n",
        "shuffle_df = df.sample(frac=1)\n",
        "\n",
        "# Define a size for your train set \n",
        "train_size = int(0.7 * len(df))\n",
        "\n",
        "train_set_df = shuffle_df[:train_size]\n",
        "test_set_df = shuffle_df[train_size:]\n",
        "\n",
        "x_train_1=(train_set_df.iloc[:,1:12])\n",
        "y_train_1=(train_set_df.iloc[:,-1])\n",
        "\n",
        "\n",
        "x_test_1=(test_set_df.iloc[:,1:12])\n",
        "y_test_1=(test_set_df.iloc[:,-1])"
      ],
      "metadata": {
        "id": "f_ogKmcyIy1G"
      },
      "execution_count": 634,
      "outputs": []
    },
    {
      "cell_type": "code",
      "source": [
        "x_train_1.shape"
      ],
      "metadata": {
        "colab": {
          "base_uri": "https://localhost:8080/"
        },
        "id": "fvT2AZG2v0J1",
        "outputId": "b802a323-05ce-4bb8-c09a-e67f501e1f25"
      },
      "execution_count": 635,
      "outputs": [
        {
          "output_type": "execute_result",
          "data": {
            "text/plain": [
              "(19, 11)"
            ]
          },
          "metadata": {},
          "execution_count": 635
        }
      ]
    },
    {
      "cell_type": "code",
      "source": [
        "GLM=Generalized_linear_model(variables=11, bs=150, degrees=1, epochs=4000, lr=0.0001,regularization=\"None\",lambda_=1)\n",
        "GLM.fit(x_train_1,y_train_1)"
      ],
      "metadata": {
        "id": "m_0qNkzXgN6H"
      },
      "execution_count": 636,
      "outputs": []
    },
    {
      "cell_type": "code",
      "source": [
        "y_pred_1=GLM.predict(x_test_1)"
      ],
      "metadata": {
        "id": "7Z2zabm5gQt-"
      },
      "execution_count": 637,
      "outputs": []
    },
    {
      "cell_type": "code",
      "source": [
        "y_pred_1"
      ],
      "metadata": {
        "colab": {
          "base_uri": "https://localhost:8080/"
        },
        "id": "5MIpzYqkwf9G",
        "outputId": "6dfd4893-31a3-4ab8-9093-a8974e9912fb"
      },
      "execution_count": 638,
      "outputs": [
        {
          "output_type": "execute_result",
          "data": {
            "text/plain": [
              "array([34.34844392, 33.2524779 , 30.1190677 , 42.24896518, 26.55811487,\n",
              "       33.25062133, 24.12927329, 29.06069924, 28.02378821])"
            ]
          },
          "metadata": {},
          "execution_count": 638
        }
      ]
    },
    {
      "cell_type": "code",
      "source": [
        "# MSE\n",
        "MSE = np.square(np.subtract(y_test_1,y_pred_1)).mean()\n",
        "MSE"
      ],
      "metadata": {
        "colab": {
          "base_uri": "https://localhost:8080/"
        },
        "id": "uEQN-JvKwDxF",
        "outputId": "c426b843-0542-44ed-dbbf-c92fbeba82de"
      },
      "execution_count": 639,
      "outputs": [
        {
          "output_type": "execute_result",
          "data": {
            "text/plain": [
              "10.87903470145492"
            ]
          },
          "metadata": {},
          "execution_count": 639
        }
      ]
    },
    {
      "cell_type": "markdown",
      "source": [
        "The mean squared error is 10.87"
      ],
      "metadata": {
        "id": "GhnJEGhVwViV"
      }
    },
    {
      "cell_type": "code",
      "source": [
        "df.columns"
      ],
      "metadata": {
        "colab": {
          "base_uri": "https://localhost:8080/"
        },
        "id": "KFuY6sJDSybq",
        "outputId": "0c04635a-77eb-4951-b0a2-3685998feea9"
      },
      "execution_count": 640,
      "outputs": [
        {
          "output_type": "execute_result",
          "data": {
            "text/plain": [
              "Index(['House ID', 'Local Price', 'Bathrooms', 'Land Area', 'Living area',\n",
              "       '# Garages', '# Rooms', '# Bedrooms', 'Age of home',\n",
              "       'Construction type', 'Architecture type', '# Fire places',\n",
              "       'Price (1000$)'],\n",
              "      dtype='object')"
            ]
          },
          "metadata": {},
          "execution_count": 640
        }
      ]
    },
    {
      "cell_type": "code",
      "source": [
        "# Calculating the weights \n",
        "x=list(GLM.w)\n",
        "y=list(x_train_1.columns)\n",
        "Coeff_weight=pd.DataFrame(\n",
        "    {'Columns': y,\n",
        "     'Coefficent Value': x\n",
        "    })\n",
        "Coeff_weight"
      ],
      "metadata": {
        "colab": {
          "base_uri": "https://localhost:8080/",
          "height": 394
        },
        "id": "yarbjWReE9gE",
        "outputId": "972a835c-da1e-40d5-99c9-acf79e8d2d71"
      },
      "execution_count": 641,
      "outputs": [
        {
          "output_type": "execute_result",
          "data": {
            "text/plain": [
              "              Columns  Coefficent Value\n",
              "0         Local Price          3.001028\n",
              "1           Bathrooms          0.657434\n",
              "2           Land Area          0.885904\n",
              "3         Living area          0.803475\n",
              "4           # Garages          0.321723\n",
              "5             # Rooms          1.167901\n",
              "6          # Bedrooms          0.694858\n",
              "7         Age of home         -0.087832\n",
              "8   Construction type          0.631363\n",
              "9   Architecture type         -0.295138\n",
              "10      # Fire places          0.257928"
            ],
            "text/html": [
              "\n",
              "  <div id=\"df-eae8e167-fc54-400e-99f3-8db08617f1c3\">\n",
              "    <div class=\"colab-df-container\">\n",
              "      <div>\n",
              "<style scoped>\n",
              "    .dataframe tbody tr th:only-of-type {\n",
              "        vertical-align: middle;\n",
              "    }\n",
              "\n",
              "    .dataframe tbody tr th {\n",
              "        vertical-align: top;\n",
              "    }\n",
              "\n",
              "    .dataframe thead th {\n",
              "        text-align: right;\n",
              "    }\n",
              "</style>\n",
              "<table border=\"1\" class=\"dataframe\">\n",
              "  <thead>\n",
              "    <tr style=\"text-align: right;\">\n",
              "      <th></th>\n",
              "      <th>Columns</th>\n",
              "      <th>Coefficent Value</th>\n",
              "    </tr>\n",
              "  </thead>\n",
              "  <tbody>\n",
              "    <tr>\n",
              "      <th>0</th>\n",
              "      <td>Local Price</td>\n",
              "      <td>3.001028</td>\n",
              "    </tr>\n",
              "    <tr>\n",
              "      <th>1</th>\n",
              "      <td>Bathrooms</td>\n",
              "      <td>0.657434</td>\n",
              "    </tr>\n",
              "    <tr>\n",
              "      <th>2</th>\n",
              "      <td>Land Area</td>\n",
              "      <td>0.885904</td>\n",
              "    </tr>\n",
              "    <tr>\n",
              "      <th>3</th>\n",
              "      <td>Living area</td>\n",
              "      <td>0.803475</td>\n",
              "    </tr>\n",
              "    <tr>\n",
              "      <th>4</th>\n",
              "      <td># Garages</td>\n",
              "      <td>0.321723</td>\n",
              "    </tr>\n",
              "    <tr>\n",
              "      <th>5</th>\n",
              "      <td># Rooms</td>\n",
              "      <td>1.167901</td>\n",
              "    </tr>\n",
              "    <tr>\n",
              "      <th>6</th>\n",
              "      <td># Bedrooms</td>\n",
              "      <td>0.694858</td>\n",
              "    </tr>\n",
              "    <tr>\n",
              "      <th>7</th>\n",
              "      <td>Age of home</td>\n",
              "      <td>-0.087832</td>\n",
              "    </tr>\n",
              "    <tr>\n",
              "      <th>8</th>\n",
              "      <td>Construction type</td>\n",
              "      <td>0.631363</td>\n",
              "    </tr>\n",
              "    <tr>\n",
              "      <th>9</th>\n",
              "      <td>Architecture type</td>\n",
              "      <td>-0.295138</td>\n",
              "    </tr>\n",
              "    <tr>\n",
              "      <th>10</th>\n",
              "      <td># Fire places</td>\n",
              "      <td>0.257928</td>\n",
              "    </tr>\n",
              "  </tbody>\n",
              "</table>\n",
              "</div>\n",
              "      <button class=\"colab-df-convert\" onclick=\"convertToInteractive('df-eae8e167-fc54-400e-99f3-8db08617f1c3')\"\n",
              "              title=\"Convert this dataframe to an interactive table.\"\n",
              "              style=\"display:none;\">\n",
              "        \n",
              "  <svg xmlns=\"http://www.w3.org/2000/svg\" height=\"24px\"viewBox=\"0 0 24 24\"\n",
              "       width=\"24px\">\n",
              "    <path d=\"M0 0h24v24H0V0z\" fill=\"none\"/>\n",
              "    <path d=\"M18.56 5.44l.94 2.06.94-2.06 2.06-.94-2.06-.94-.94-2.06-.94 2.06-2.06.94zm-11 1L8.5 8.5l.94-2.06 2.06-.94-2.06-.94L8.5 2.5l-.94 2.06-2.06.94zm10 10l.94 2.06.94-2.06 2.06-.94-2.06-.94-.94-2.06-.94 2.06-2.06.94z\"/><path d=\"M17.41 7.96l-1.37-1.37c-.4-.4-.92-.59-1.43-.59-.52 0-1.04.2-1.43.59L10.3 9.45l-7.72 7.72c-.78.78-.78 2.05 0 2.83L4 21.41c.39.39.9.59 1.41.59.51 0 1.02-.2 1.41-.59l7.78-7.78 2.81-2.81c.8-.78.8-2.07 0-2.86zM5.41 20L4 18.59l7.72-7.72 1.47 1.35L5.41 20z\"/>\n",
              "  </svg>\n",
              "      </button>\n",
              "      \n",
              "  <style>\n",
              "    .colab-df-container {\n",
              "      display:flex;\n",
              "      flex-wrap:wrap;\n",
              "      gap: 12px;\n",
              "    }\n",
              "\n",
              "    .colab-df-convert {\n",
              "      background-color: #E8F0FE;\n",
              "      border: none;\n",
              "      border-radius: 50%;\n",
              "      cursor: pointer;\n",
              "      display: none;\n",
              "      fill: #1967D2;\n",
              "      height: 32px;\n",
              "      padding: 0 0 0 0;\n",
              "      width: 32px;\n",
              "    }\n",
              "\n",
              "    .colab-df-convert:hover {\n",
              "      background-color: #E2EBFA;\n",
              "      box-shadow: 0px 1px 2px rgba(60, 64, 67, 0.3), 0px 1px 3px 1px rgba(60, 64, 67, 0.15);\n",
              "      fill: #174EA6;\n",
              "    }\n",
              "\n",
              "    [theme=dark] .colab-df-convert {\n",
              "      background-color: #3B4455;\n",
              "      fill: #D2E3FC;\n",
              "    }\n",
              "\n",
              "    [theme=dark] .colab-df-convert:hover {\n",
              "      background-color: #434B5C;\n",
              "      box-shadow: 0px 1px 3px 1px rgba(0, 0, 0, 0.15);\n",
              "      filter: drop-shadow(0px 1px 2px rgba(0, 0, 0, 0.3));\n",
              "      fill: #FFFFFF;\n",
              "    }\n",
              "  </style>\n",
              "\n",
              "      <script>\n",
              "        const buttonEl =\n",
              "          document.querySelector('#df-eae8e167-fc54-400e-99f3-8db08617f1c3 button.colab-df-convert');\n",
              "        buttonEl.style.display =\n",
              "          google.colab.kernel.accessAllowed ? 'block' : 'none';\n",
              "\n",
              "        async function convertToInteractive(key) {\n",
              "          const element = document.querySelector('#df-eae8e167-fc54-400e-99f3-8db08617f1c3');\n",
              "          const dataTable =\n",
              "            await google.colab.kernel.invokeFunction('convertToInteractive',\n",
              "                                                     [key], {});\n",
              "          if (!dataTable) return;\n",
              "\n",
              "          const docLinkHtml = 'Like what you see? Visit the ' +\n",
              "            '<a target=\"_blank\" href=https://colab.research.google.com/notebooks/data_table.ipynb>data table notebook</a>'\n",
              "            + ' to learn more about interactive tables.';\n",
              "          element.innerHTML = '';\n",
              "          dataTable['output_type'] = 'display_data';\n",
              "          await google.colab.output.renderOutput(dataTable, element);\n",
              "          const docLink = document.createElement('div');\n",
              "          docLink.innerHTML = docLinkHtml;\n",
              "          element.appendChild(docLink);\n",
              "        }\n",
              "      </script>\n",
              "    </div>\n",
              "  </div>\n",
              "  "
            ]
          },
          "metadata": {},
          "execution_count": 641
        }
      ]
    },
    {
      "cell_type": "code",
      "source": [
        "# Calculating the coefficent of determination\n",
        "\n",
        "corr_matrix = np.corrcoef(y_test_1, y_pred_1)\n",
        "corr = corr_matrix[0,1]\n",
        "R_sq = corr**2\n",
        "R_sq"
      ],
      "metadata": {
        "colab": {
          "base_uri": "https://localhost:8080/"
        },
        "id": "gjODF5JEFIa3",
        "outputId": "4441d406-ba82-406e-eadf-93bee930e49e"
      },
      "execution_count": 642,
      "outputs": [
        {
          "output_type": "execute_result",
          "data": {
            "text/plain": [
              "0.648809152923194"
            ]
          },
          "metadata": {},
          "execution_count": 642
        }
      ]
    },
    {
      "cell_type": "code",
      "source": [
        "#2.) Which factor has the most effect on the final value? How do you know this? Can you use only \n",
        "#this feature to predict the price?\n",
        "\n",
        "df_new=df[['Price (1000$)','Local Price']]\n",
        "\n",
        "train_size_1 = int(0.7 * len(df_new))\n",
        "\n",
        "train_set_df = df_new[:train_size_1]\n",
        "test_set_df = df_new[train_size_1:]\n",
        "\n",
        "x_train_1=np.array(train_set_df.iloc[:,1]).reshape(19,1)\n",
        "y_train_1=(train_set_df.iloc[:,0])\n",
        "\n",
        "\n",
        "x_test_1=np.array(test_set_df.iloc[:,1]).reshape(9,1)\n",
        "y_test_1=(test_set_df.iloc[:,0])\n",
        "\n",
        "GLM_high=Generalized_linear_model( variables=1, bs=150, degrees=1, epochs=4000, lr=0.0001,regularization=\"None\",lambda_=1)\n",
        "GLM_high.fit(x_train_1,y_train_1)\n",
        "# Regression using the highest coeff value\n",
        "y_pred_highest_coeff=GLM_high.predict(x_test_1)\n",
        "\n",
        "corr_matrix_1 = np.corrcoef(y_test_1, y_pred_1)\n",
        "corr_1 = corr_matrix_1[0,1]\n",
        "R_sq_1 = corr_1**2\n",
        "R_sq_1"
      ],
      "metadata": {
        "colab": {
          "base_uri": "https://localhost:8080/"
        },
        "id": "_St5XlX5IVpS",
        "outputId": "9fe061c0-796f-41ab-aee4-97ab0985a2c4"
      },
      "execution_count": 645,
      "outputs": [
        {
          "output_type": "execute_result",
          "data": {
            "text/plain": [
              "0.24819661546206623"
            ]
          },
          "metadata": {},
          "execution_count": 645
        }
      ]
    },
    {
      "cell_type": "code",
      "source": [
        "#3.) Which factor has the least effect on the final value? How do you know this? What effect does \n",
        "#removing this feature have on the performance?\n",
        "\n",
        "\n",
        "df_new=df[['Local Price', 'Bathrooms', 'Land Area', 'Living area', '# Garages',\n",
        "       '# Rooms', '# Bedrooms', 'Construction type',\n",
        "       'Architecture type', '# Fire places', 'Price (1000$)']]\n",
        "\n",
        "train_size_1 = int(0.7 * len(df_new))\n",
        "\n",
        "train_set_df = df_new[:train_size_1]\n",
        "test_set_df = df_new[train_size_1:]\n",
        "\n",
        "x_train_1=(train_set_df.iloc[:,0:10])\n",
        "y_train_1=(train_set_df.iloc[:,-1])\n",
        "\n",
        "\n",
        "x_test_1=(test_set_df.iloc[:,0:10])\n",
        "y_test_1=(test_set_df.iloc[:,0])\n",
        "\n",
        "GLM_high=Generalized_linear_model( variables=10, bs=150, degrees=1, epochs=4000, lr=0.0001,regularization=\"None\",lambda_=1)\n",
        "GLM_high.fit(x_train_1,y_train_1)\n",
        "# Regression using the highest coeff value\n",
        "y_pred_highest_coeff=GLM_high.predict(x_test_1)\n",
        "\n",
        "corr_matrix_2 = np.corrcoef(y_test_1, y_pred_1)\n",
        "corr_1 = corr_matrix_2[0,1]\n",
        "R_sq_1 = corr_1**2\n",
        "R_sq_1"
      ],
      "metadata": {
        "colab": {
          "base_uri": "https://localhost:8080/"
        },
        "id": "34WtCvd6KItV",
        "outputId": "1445c21d-5801-456b-f198-cd883afb6277"
      },
      "execution_count": 647,
      "outputs": [
        {
          "output_type": "execute_result",
          "data": {
            "text/plain": [
              "0.000554049628475399"
            ]
          },
          "metadata": {},
          "execution_count": 647
        }
      ]
    },
    {
      "cell_type": "code",
      "source": [],
      "metadata": {
        "id": "ICe2nCNxwkXk"
      },
      "execution_count": null,
      "outputs": []
    }
  ]
}